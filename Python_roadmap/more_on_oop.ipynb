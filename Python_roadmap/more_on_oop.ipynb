{
 "cells": [
  {
   "cell_type": "markdown",
   "metadata": {},
   "source": [
    "# Classes\n",
    "***The focal point of Object Oriented Programming are objects, which are created using clases.***\n",
    "\n",
    "<p> The class describes what the object will be, but is separate from the object itself. In other words, a class can be described as an object's blueprint, description, or definition.\n",
    "You can use the same class as a blueprint for creating multiple different objects.\n",
    "\n",
    "Classes are created using the keyword class and an indented block, which contains class methods (which are functions).\n",
    "Below is an example of a simple class and its objects. </p>"
   ]
  },
  {
   "cell_type": "markdown",
   "metadata": {},
   "source": [
    "```\n",
    "Class must have '__init__' and methods\n",
    "```\n",
    "\n",
    "```python"
   ]
  },
  {
   "cell_type": "code",
   "execution_count": 2,
   "metadata": {},
   "outputs": [
    {
     "name": "stdout",
     "output_type": "stream",
     "text": [
      "ginger\n"
     ]
    }
   ],
   "source": [
    "class Cat:\n",
    "    def __init__(self, color, legs):\n",
    "        self.color = color\n",
    "        self.legs = legs\n",
    "\n",
    "felix = Cat(\"ginger\", 4)\n",
    "rover = Cat(\"dog-colored\", 4)\n",
    "stumpy = Cat(\"brown\", 3)\n",
    "\n",
    "print(felix.color)"
   ]
  },
  {
   "cell_type": "code",
   "execution_count": 4,
   "metadata": {},
   "outputs": [
    {
     "name": "stdout",
     "output_type": "stream",
     "text": [
      "Fido\n",
      "Woof!\n",
      "Woof!\n",
      "None\n"
     ]
    }
   ],
   "source": [
    "class Dog:\n",
    "    def __init__(self, name, color):\n",
    "        self.name = name\n",
    "        self.color = color\n",
    "\n",
    "    def bark(self):\n",
    "        print(\"Woof!\")\n",
    "\n",
    "fido = Dog(\"Fido\", \"brown\")\n",
    "print(fido.name)\n",
    "fido.bark()\n",
    "\n",
    "print(Dog(\"Fido\", \"brown\").bark())"
   ]
  },
  {
   "cell_type": "markdown",
   "metadata": {},
   "source": [
    "##Inheritance\n",
    "\n",
    "<p> Inheritance provides a way to share functionality between classes.\n",
    "Imagine several classes, Cat, Dog, Rabbit and so on. Although they may differ in some ways (only Dog might have the method bark), they are likely to be similar in others (all having the attributes color and name).\n",
    "This similarity can be expressed by making them all inherit from a superclass Animal, which contains the shared functionality.\n",
    "To inherit a class from another class, put the superclass name in parentheses after the class name.</p>"
   ]
  },
  {
   "cell_type": "code",
   "execution_count": 6,
   "metadata": {},
   "outputs": [
    {
     "name": "stdout",
     "output_type": "stream",
     "text": [
      "brown\n",
      "Woof!\n"
     ]
    }
   ],
   "source": [
    "class Animal:\n",
    "    def __init__(self, name, color):\n",
    "        self.name = name\n",
    "        self.color = color\n",
    "    \n",
    "class Cat(Animal):\n",
    "    def purr(self):\n",
    "        print(\"Purr .....\")\n",
    "\n",
    "class Dog(Animal):\n",
    "    def bark(self):\n",
    "        print(\"Woof!\")\n",
    "fido = Dog(\"Fido\", \"brown\")\n",
    "print(fido.color)\n",
    "fido.bark()"
   ]
  },
  {
   "cell_type": "markdown",
   "metadata": {},
   "source": [
    "<p> A class that inherits from another class is called a subclass.\n",
    "A class that is inherited from is called a superclass.\n",
    "If a class inherits from another with the same attributes or methods, it overrides them.\n",
    "</p>"
   ]
  },
  {
   "cell_type": "code",
   "execution_count": 7,
   "metadata": {},
   "outputs": [
    {
     "name": "stdout",
     "output_type": "stream",
     "text": [
      "Woof\n"
     ]
    }
   ],
   "source": [
    "class Wolf: \n",
    "    def __init__(self, name, color):\n",
    "        self.name = name\n",
    "        self.color = color\n",
    "\n",
    "    def bark(self):\n",
    "        print(\"Grr...\")\n",
    "\n",
    "class Dog(Wolf):\n",
    "    def bark(self):\n",
    "        print(\"Woof\")\n",
    "\n",
    "husky = Dog(\"Max\", \"grey\")\n",
    "husky.bark()"
   ]
  },
  {
   "cell_type": "code",
   "execution_count": 8,
   "metadata": {},
   "outputs": [
    {
     "name": "stdout",
     "output_type": "stream",
     "text": [
      "2\n"
     ]
    }
   ],
   "source": [
    "class A:\n",
    "  def method(self):\n",
    "    print(1)\n",
    "\n",
    "class B(A):\n",
    "  def method(self):\n",
    "    print(2)\n",
    "\n",
    "B().method()"
   ]
  },
  {
   "cell_type": "markdown",
   "metadata": {},
   "source": [
    "# Magic Methods\n",
    "\n",
    "<p> Magic methods are special methods which have double underscores at the beginning and end of their names.\n",
    "They are also known as dunders.\n",
    "So far, the only one we have encountered is __init__, but there are several others.\n",
    "They are used to create functionality that can't be represented as a normal method.\n",
    "\n",
    "One common use of them is operator overloading.\n",
    "This means defining operators for custom classes that allow operators such as + and * to be used on them.\n",
    "An example magic method is __add__ for +.</p>"
   ]
  },
  {
   "cell_type": "code",
   "execution_count": 9,
   "metadata": {},
   "outputs": [
    {
     "name": "stdout",
     "output_type": "stream",
     "text": [
      "8\n",
      "16\n"
     ]
    }
   ],
   "source": [
    "class Vector2D:\n",
    "    def __init__(self, x, y):\n",
    "        self.x = x\n",
    "        self.y = y\n",
    "    def __add__(self, other):\n",
    "        return Vector2D(self.x + other.x, self.y + other.y)\n",
    "\n",
    "first = Vector2D(5, 7)\n",
    "second = Vector2D(3, 9)\n",
    "result = first + second\n",
    "print(result.x)\n",
    "print(result.y)"
   ]
  },
  {
   "cell_type": "markdown",
   "metadata": {},
   "source": [
    "\n",
    "More magic methods for common operators:\n",
    "```\n",
    "__sub__ for -\n",
    "\n",
    "__mul__ for *\n",
    "\n",
    "__truediv__ for /\n",
    "\n",
    "__floordiv__ for //\n",
    "\n",
    "__mod__ for %\n",
    "\n",
    "__pow__ for **\n",
    "\n",
    "__and__ for &\n",
    "\n",
    "__xor__ for ^\n",
    "\n",
    "__or__ for |\n",
    "```\n",
    "\n"
   ]
  },
  {
   "cell_type": "code",
   "execution_count": 17,
   "metadata": {},
   "outputs": [
    {
     "name": "stdout",
     "output_type": "stream",
     "text": [
      "spam\n",
      "============\n",
      "Hello world!\n"
     ]
    }
   ],
   "source": [
    "class SpecialString:\n",
    "    def __init__(self, cont):\n",
    "        self.cont = cont\n",
    "\n",
    "    def __truediv__(self, other):\n",
    "        line = \"=\" * len(other.cont)\n",
    "        return \"\\n\".join([self.cont, line, other.cont]) #other.cont gives \"Hello world!\" in this example\n",
    "\n",
    "spam = SpecialString(\"spam\")\n",
    "hello = SpecialString(\"Hello world!\")\n",
    "print(spam / hello)"
   ]
  },
  {
   "cell_type": "markdown",
   "metadata": {},
   "source": [
    "##  Magic Methods\n",
    "<p> Python also provides magic methods for comparisons.</p>\n",
    "\n",
    "``` python\n",
    "__lt__ for <\n",
    "__le__ for <=\n",
    "__eq__ for ==\n",
    "__ne__ for !=\n",
    "__gt__ for >\n",
    "__ge__ for >=\n",
    "\n",
    "If __ne__ is not implemented, it returns the opposite of __eq__.\n",
    "```\n",
    "\n",
    "Example:\n",
    "\n",
    "\n"
   ]
  },
  {
   "cell_type": "code",
   "execution_count": 18,
   "metadata": {},
   "outputs": [
    {
     "name": "stdout",
     "output_type": "stream",
     "text": [
      "4\n",
      "4\n",
      "range(0, 5)\n",
      ">spam>eggs\n",
      "4\n",
      "4\n",
      "range(0, 5)\n",
      "e>spam>ggs\n",
      "4\n",
      "4\n",
      "range(0, 5)\n",
      "eg>spam>gs\n",
      "4\n",
      "4\n",
      "range(0, 5)\n",
      "egg>spam>s\n",
      "4\n",
      "4\n",
      "range(0, 5)\n",
      "eggs>spam>\n"
     ]
    }
   ],
   "source": [
    "class SpecialString:\n",
    "    def __init__(self, cont):\n",
    "        self.cont = cont\n",
    "\n",
    "    def __gt__(self, other):\n",
    "        for index in range(len(other.cont)+1):\n",
    "            print(len(self.cont))\n",
    "            print(len(other.cont))\n",
    "            print(range(len(other.cont)+1))\n",
    "            result = other.cont[:index] + \">\" + self.cont\n",
    "            result += \">\" + other.cont[index:]\n",
    "            print(result)\n",
    "\n",
    "spam = SpecialString(\"spam\")\n",
    "eggs = SpecialString(\"eggs\")\n",
    "spam > eggs"
   ]
  },
  {
   "cell_type": "markdown",
   "metadata": {},
   "source": [
    "## More on Magic Methods\n",
    "<p> There are several magic methods for making classes act like containers.</p>\n",
    "\n",
    "```python\n",
    "__len__ for len()\n",
    "__getitem__ for indexing\n",
    "__setitem__ for assigning to indexed values\n",
    "__delitem__ for deleting indexed values\n",
    "__iter__ for iteration over objects (e.g., in for loops)\n",
    "__contains__ for in\n",
    "```"
   ]
  },
  {
   "cell_type": "code",
   "execution_count": 47,
   "metadata": {},
   "outputs": [
    {
     "name": "stdout",
     "output_type": "stream",
     "text": [
      "2\n",
      "9\n",
      "8\n",
      "3\n",
      "B\n",
      "C\n"
     ]
    }
   ],
   "source": [
    "import random\n",
    "\n",
    "class VagueList:\n",
    "    def __init__(self, cont):\n",
    "        self.cont = cont\n",
    "\n",
    "    def __getitem__(self, index):\n",
    "        return self.cont[index + random.randint(-1, 1)]\n",
    "\n",
    "    def __len__(self):\n",
    "        print(random.randint(0, len(self.cont)*2))\n",
    "        return random.randint(0, len(self.cont)*2)\n",
    "\n",
    "vague_list = VagueList([\"A\", \"B\", \"C\", \"D\", \"E\"])\n",
    "print(len(vague_list))\n",
    "print(len(vague_list))\n",
    "print(vague_list[2])\n",
    "print(vague_list[2])"
   ]
  },
  {
   "cell_type": "markdown",
   "metadata": {},
   "source": [
    "# Dunber Methods\n",
    "<p> Dunder methods are special methods that are used to implement certain operations on user-defined classes. They are easy to recognize because they start and end with double underscores, for example __repr__ or __str__.</p>"
   ]
  },
  {
   "cell_type": "markdown",
   "metadata": {},
   "source": [
    "<p> The __repr__ dunder method defines behavior when we pass an instance of a class to the repr().\n",
    "\n",
    "The ```__repr__``` method returns the string representation of an object. Typically, the __repr__() returns a string that can be executed and yield the same value as the object.\n",
    "\n",
    "In other words, if we pass the returned string of the object_name.__repr__() method to the eval() function, you’ll get the same value as the object_name.</p>"
   ]
  },
  {
   "cell_type": "code",
   "execution_count": 55,
   "metadata": {},
   "outputs": [
    {
     "name": "stdout",
     "output_type": "stream",
     "text": [
      "Person's discription:('John', 'John', 40)\n"
     ]
    }
   ],
   "source": [
    "class Person:\n",
    "    def __init__(self, first_name, last_name, age):\n",
    "        self.fist_name = first_name\n",
    "        self.last_name = last_name\n",
    "        self.age = age\n",
    "\n",
    "    def __repr__(self):\n",
    "        return f\"Person's discription:('{self.fist_name}', '{self.fist_name}', {self.age})\"\n",
    "\n",
    "person = Person(\"John\", \"Smith\", 40)\n",
    "\n",
    "print(repr(person))"
   ]
  },
  {
   "cell_type": "markdown",
   "metadata": {},
   "source": [
    "<p> The __str__ dunder method defines behavior when we pass an instance of a class to the str()."
   ]
  },
  {
   "cell_type": "code",
   "execution_count": 56,
   "metadata": {},
   "outputs": [
    {
     "name": "stdout",
     "output_type": "stream",
     "text": [
      "Person's discription:('John', 'John', 40)\n"
     ]
    }
   ],
   "source": [
    "class Person:\n",
    "    def __init__(self, first_name, last_name, age):\n",
    "        self.fist_name = first_name\n",
    "        self.last_name = last_name\n",
    "        self.age = age\n",
    "\n",
    "    def __repr__(self):\n",
    "        return f\"Person's discription:('{self.fist_name}', '{self.fist_name}', {self.age})\"\n",
    "    def __str__(self):\n",
    "            return f'({self.first_name},{self.last_name},{self.age})'\n",
    "\n",
    "\n",
    "\n",
    "person = Person(\"John\", \"Smith\", 40)\n",
    "\n",
    "print(repr(person))"
   ]
  },
  {
   "cell_type": "markdown",
   "metadata": {},
   "source": [
    "```__str__ vs __repr__```\n",
    "<p> The main difference between __str__ and __repr__ method is intended audiences.\n",
    "\n",
    "The __str__ method returns a string representation of an object that is human-readable while the __repr__ method returns a string representation of an object that is machine-readable.</p>\n",
    "\n",
    "***Summary***\n",
    "\n",
    "<p>Implement the __repr__ method to customize the string representation of an object when repr() is called on it.\n",
    "The __str__ calls __repr__ internally by default. </p>"
   ]
  },
  {
   "cell_type": "code",
   "execution_count": 60,
   "metadata": {},
   "outputs": [
    {
     "data": {
      "text/plain": [
       "'2022-10-15 13:32:38.143792'"
      ]
     },
     "execution_count": 60,
     "metadata": {},
     "output_type": "execute_result"
    }
   ],
   "source": [
    "import datetime\n",
    "\n",
    "now = datetime.datetime.now()\n",
    "now.__str__()"
   ]
  },
  {
   "cell_type": "code",
   "execution_count": 61,
   "metadata": {},
   "outputs": [
    {
     "data": {
      "text/plain": [
       "'datetime.datetime(2022, 10, 15, 13, 32, 38, 143792)'"
      ]
     },
     "execution_count": 61,
     "metadata": {},
     "output_type": "execute_result"
    }
   ],
   "source": [
    "now.__repr__()"
   ]
  },
  {
   "cell_type": "code",
   "execution_count": 62,
   "metadata": {},
   "outputs": [
    {
     "name": "stdout",
     "output_type": "stream",
     "text": [
      "Person name is John and age is 34\n",
      "Person(name=John, age=34)\n"
     ]
    }
   ],
   "source": [
    "class Person:\n",
    "\n",
    "    def __init__(self, person_name, person_age):\n",
    "        self.name = person_name\n",
    "        self.age = person_age\n",
    "\n",
    "    def __str__(self):\n",
    "        return f'Person name is {self.name} and age is {self.age}'\n",
    "\n",
    "    def __repr__(self):\n",
    "        return f'Person(name={self.name}, age={self.age})'\n",
    "\n",
    "\n",
    "p = Person('John', 34)\n",
    "\n",
    "print(p.__str__())\n",
    "print(p.__repr__())"
   ]
  },
  {
   "cell_type": "code",
   "execution_count": null,
   "metadata": {},
   "outputs": [],
   "source": []
  },
  {
   "cell_type": "markdown",
   "metadata": {},
   "source": [
    "# Data Hiding\n",
    "<p> Data hiding is the concept of restricting access to methods and variables. This prevents data from direct modification which is called encapsulation. In Python, we denote private attributes using underscore as the prefix i.e single “ _ “ or double “ __ “. Single _ underscore is used by convention to avoid conflicts with subclasses. </p>\n",
    "\n",
    "### Private methods\n",
    "<p> Private methods are accessible only within the class. We can define private methods by adding double underscore “ __ “ before the method name. </p>\n",
    "\n",
    "***Weak Private Methods***\n",
    "<p> Weak private methods are accessible outside the class but not recommended to use outside the class. We can define weak private methods by adding single underscore “ _ “ before the method name. </p>\n"
   ]
  },
  {
   "cell_type": "code",
   "execution_count": 63,
   "metadata": {},
   "outputs": [
    {
     "name": "stdout",
     "output_type": "stream",
     "text": [
      "Queue[1, 2, 3])\n",
      "Queue[0, 1, 2, 3])\n",
      "Queue[0, 1, 2])\n",
      "[0, 1, 2]\n"
     ]
    }
   ],
   "source": [
    "class Queue:\n",
    "    def __init__(self, contents):\n",
    "        self._hiddenlist = list(contents)\n",
    "    def push(self, value):\n",
    "        self._hiddenlist.insert(0, value)\n",
    "    def pop(self):\n",
    "        return self._hiddenlist.pop(-1)\n",
    "    def __repr__(self):\n",
    "        return \"Queue{})\".format(self._hiddenlist)\n",
    "\n",
    "queue = Queue([1, 2, 3])\n",
    "print(queue)\n",
    "\n",
    "queue.push(0)\n",
    "print(queue)\n",
    "\n",
    "queue.pop()\n",
    "print(queue)\n",
    "\n",
    "print(queue._hiddenlist)"
   ]
  },
  {
   "cell_type": "markdown",
   "metadata": {},
   "source": [
    "### Strong Private Methods\n",
    "<p> Strong private methods are not accessible outside the class. We can define strong private methods by adding double underscore “ __ “ before the method name. </p>"
   ]
  },
  {
   "cell_type": "code",
   "execution_count": 65,
   "metadata": {},
   "outputs": [
    {
     "name": "stdout",
     "output_type": "stream",
     "text": [
      "7\n",
      "7\n"
     ]
    },
    {
     "ename": "AttributeError",
     "evalue": "'Spam' object has no attribute '__egg'",
     "output_type": "error",
     "traceback": [
      "\u001b[0;31m---------------------------------------------------------------------------\u001b[0m",
      "\u001b[0;31mAttributeError\u001b[0m                            Traceback (most recent call last)",
      "\u001b[1;32m/Users/slau8405/Desktop/work_space/work_space/Python-roadmap/more_on_oop.ipynb Cell 31\u001b[0m in \u001b[0;36m<cell line: 9>\u001b[0;34m()\u001b[0m\n\u001b[1;32m      <a href='vscode-notebook-cell:/Users/slau8405/Desktop/work_space/work_space/Python-roadmap/more_on_oop.ipynb#X23sZmlsZQ%3D%3D?line=5'>6</a>\u001b[0m egg\u001b[39m.\u001b[39mprint_egg()\n\u001b[1;32m      <a href='vscode-notebook-cell:/Users/slau8405/Desktop/work_space/work_space/Python-roadmap/more_on_oop.ipynb#X23sZmlsZQ%3D%3D?line=7'>8</a>\u001b[0m \u001b[39mprint\u001b[39m(egg\u001b[39m.\u001b[39m_Spam__egg)\n\u001b[0;32m----> <a href='vscode-notebook-cell:/Users/slau8405/Desktop/work_space/work_space/Python-roadmap/more_on_oop.ipynb#X23sZmlsZQ%3D%3D?line=8'>9</a>\u001b[0m \u001b[39mprint\u001b[39m(egg\u001b[39m.\u001b[39;49m__egg)\n",
      "\u001b[0;31mAttributeError\u001b[0m: 'Spam' object has no attribute '__egg'"
     ]
    }
   ],
   "source": [
    "class Spam:\n",
    "    __egg = 7\n",
    "    def print_egg(self):\n",
    "        print(self.__egg)\n",
    "egg = Spam()\n",
    "egg.print_egg()\n",
    "\n",
    "print(egg._Spam__egg)\n",
    "print(egg.__egg)"
   ]
  },
  {
   "cell_type": "code",
   "execution_count": null,
   "metadata": {},
   "outputs": [],
   "source": []
  },
  {
   "cell_type": "code",
   "execution_count": null,
   "metadata": {},
   "outputs": [],
   "source": []
  },
  {
   "cell_type": "code",
   "execution_count": null,
   "metadata": {},
   "outputs": [],
   "source": []
  }
 ],
 "metadata": {
  "kernelspec": {
   "display_name": "Python 3.10.7 64-bit",
   "language": "python",
   "name": "python3"
  },
  "language_info": {
   "codemirror_mode": {
    "name": "ipython",
    "version": 3
   },
   "file_extension": ".py",
   "mimetype": "text/x-python",
   "name": "python",
   "nbconvert_exporter": "python",
   "pygments_lexer": "ipython3",
   "version": "3.10.7"
  },
  "orig_nbformat": 4,
  "vscode": {
   "interpreter": {
    "hash": "b0fa6594d8f4cbf19f97940f81e996739fb7646882a419484c72d19e05852a7e"
   }
  }
 },
 "nbformat": 4,
 "nbformat_minor": 2
}
