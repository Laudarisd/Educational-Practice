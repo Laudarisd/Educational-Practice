{
 "cells": [
  {
   "cell_type": "markdown",
   "source": [
    "# For loop"
   ],
   "metadata": {}
  },
  {
   "cell_type": "markdown",
   "source": [
    "# while statement"
   ],
   "metadata": {}
  },
  {
   "cell_type": "markdown",
   "source": [
    "A while loop is a programming concept that, when it's implemented, executes a piece of code over and over again while a given condition still holds true."
   ],
   "metadata": {}
  },
  {
   "cell_type": "code",
   "execution_count": 2,
   "source": [
    "number  = 1\n",
    "\n",
    "while number < 5:\n",
    "    print(\"Hello World\")\n",
    "    number = number + 1"
   ],
   "outputs": [
    {
     "output_type": "stream",
     "name": "stdout",
     "text": [
      "Hello World\n",
      "Hello World\n",
      "Hello World\n",
      "Hello World\n"
     ]
    }
   ],
   "metadata": {}
  },
  {
   "cell_type": "code",
   "execution_count": 5,
   "source": [
    "number = 2\n",
    "\n",
    "# condition of the while loop\n",
    "\n",
    "while number < 10 :\n",
    "    #give more condition\n",
    "    if number % 2 == 0:\n",
    "        print(\"The number\" +str(number) + \"is even\")\n",
    "    else:\n",
    "        print(\"The number\" +str(number) + \"is odd\")\n",
    "    number = number+1"
   ],
   "outputs": [
    {
     "output_type": "stream",
     "name": "stdout",
     "text": [
      "The number2is even\n",
      "The number3is odd\n",
      "The number4is even\n",
      "The number5is odd\n",
      "The number6is even\n",
      "The number7is odd\n",
      "The number8is even\n",
      "The number9is odd\n"
     ]
    }
   ],
   "metadata": {}
  },
  {
   "cell_type": "code",
   "execution_count": null,
   "source": [
    "def collatz(number):\n",
    "    # Is the mod of 2 equal to 0?\n",
    "    if number % 2 == 0:\n",
    "        print(number // 2)\n",
    "        return number // 2\n",
    "\n",
    "    # If the mod of 2 isn't equal to 0, print `3 * number + 1`\n",
    "    elif number % 2 == 1:\n",
    "        result = 3 * number + 1\n",
    "        print(result)\n",
    "        return result\n",
    "\n",
    "# Ask input from the user    \n",
    "n = input(\"Give me a number: \")\n",
    "\n",
    "# As long as `n` is not equal to `1`, run `collatz()`\n",
    "while n != 1:\n",
    "    n = collatz(int(n))"
   ],
   "outputs": [],
   "metadata": {}
  },
  {
   "cell_type": "markdown",
   "source": [
    "# For Loop"
   ],
   "metadata": {}
  },
  {
   "cell_type": "code",
   "execution_count": 8,
   "source": [
    "for i in range(5):\n",
    "    print(i)"
   ],
   "outputs": [
    {
     "output_type": "stream",
     "name": "stdout",
     "text": [
      "0\n",
      "1\n",
      "2\n",
      "3\n",
      "4\n"
     ]
    }
   ],
   "metadata": {}
  },
  {
   "cell_type": "code",
   "execution_count": 9,
   "source": [
    "languages = ['R', 'Python',  'Scala', 'Java', 'Julia']\n",
    "\n",
    "for index in range(len(languages)):\n",
    "   print('Current language:', languages[index])"
   ],
   "outputs": [
    {
     "output_type": "stream",
     "name": "stdout",
     "text": [
      "Current language: R\n",
      "Current language: Python\n",
      "Current language: Scala\n",
      "Current language: Java\n",
      "Current language: Julia\n"
     ]
    }
   ],
   "metadata": {}
  },
  {
   "cell_type": "code",
   "execution_count": 12,
   "source": [
    "languages = ['R', 'Python',  'Scala', 'Java', 'Julia']\n",
    "\n",
    "for i in languages:\n",
    "   print(i)"
   ],
   "outputs": [
    {
     "output_type": "stream",
     "name": "stdout",
     "text": [
      "R\n",
      "Python\n",
      "Scala\n",
      "Java\n",
      "Julia\n"
     ]
    }
   ],
   "metadata": {}
  },
  {
   "cell_type": "code",
   "execution_count": 1,
   "source": [
    "programming_languages = \"Python\", \"Java\", \"C++\", \"C#\"\n",
    "\n",
    "for language in programming_languages:\n",
    "    print(language)\n"
   ],
   "outputs": [
    {
     "output_type": "stream",
     "name": "stdout",
     "text": [
      "Python\n",
      "Java\n",
      "C++\n",
      "C#\n"
     ]
    }
   ],
   "metadata": {}
  },
  {
   "cell_type": "markdown",
   "source": [
    "Fibonacci series example"
   ],
   "metadata": {}
  },
  {
   "cell_type": "code",
   "execution_count": 13,
   "source": [
    "# Set `fib_no` to 55, the number until where you want to print\n",
    "fib_no = 55\n",
    "\n",
    "# Set `first_no` to 0\n",
    "first_no = 0\n",
    "\n",
    "# Set `second_no` to 1\n",
    "second_no = 1\n",
    "\n",
    "# Set the counter `count` to 0 \n",
    "count = 0\n",
    "\n",
    "# while loop to print the fibonacci series until the `fib_no`\n",
    "while first_no <= fib_no:\n",
    "       # Print `first_no`\n",
    "       print(first_no)\n",
    "       \n",
    "       # Fibonnacci number\n",
    "       nth = first_no + second_no\n",
    "    \n",
    "       # update values of `first_no` and `second_no`\n",
    "       first_no = second_no\n",
    "       second_no = nth\n",
    "       \n",
    "       # Set counter `count` +1\n",
    "       count += 1"
   ],
   "outputs": [
    {
     "output_type": "stream",
     "name": "stdout",
     "text": [
      "0\n",
      "1\n",
      "1\n",
      "2\n",
      "3\n",
      "5\n",
      "8\n",
      "13\n",
      "21\n",
      "34\n",
      "55\n"
     ]
    }
   ],
   "metadata": {}
  },
  {
   "cell_type": "code",
   "execution_count": 18,
   "source": [
    "# Initialize `first_no` to `0`\n",
    "first_no = 0\n",
    "\n",
    "# Initialize `second_no` to `1`\n",
    "second_no = 1\n",
    "\n",
    "# Initialize `numbers`\n",
    "numbers = range(0,11)\n",
    "\n",
    "# Find and display Fibonacci series\n",
    "for num in numbers:\n",
    "\n",
    "    if(num <= 1):\n",
    "    # Update only `nth`\n",
    "                nth = num           \n",
    "    else:\n",
    "    # Update the values `nth`, `first_no` and `second_no`\n",
    "        nth = first_no + second_no\n",
    "        first_no = second_no\n",
    "        second_no = nth \n",
    "\n",
    "    # Print `nth`\n",
    "    print(nth)"
   ],
   "outputs": [
    {
     "output_type": "stream",
     "name": "stdout",
     "text": [
      "0\n",
      "1\n",
      "1\n",
      "2\n",
      "3\n",
      "5\n",
      "8\n",
      "13\n",
      "21\n",
      "34\n",
      "55\n"
     ]
    }
   ],
   "metadata": {}
  },
  {
   "cell_type": "code",
   "execution_count": 19,
   "source": [
    "words = ['cat', 'window', 'defenestrate']\n",
    "for w in words:\n",
    "    print(w, len(w))"
   ],
   "outputs": [
    {
     "output_type": "stream",
     "name": "stdout",
     "text": [
      "cat 3\n",
      "window 6\n",
      "defenestrate 12\n"
     ]
    }
   ],
   "metadata": {}
  },
  {
   "cell_type": "markdown",
   "source": [
    "## break and continue Statements, and else Clauses on Loops"
   ],
   "metadata": {}
  },
  {
   "cell_type": "code",
   "execution_count": 21,
   "source": [
    "for n in range(0, 10):\n",
    "    for x in range(2, n):\n",
    "        if n % x == 0:\n",
    "            print(n, \"equals\", x , \"*\", n//x)\n",
    "            break\n",
    "    else:\n",
    "        print(n, 'is a prime number')"
   ],
   "outputs": [
    {
     "output_type": "stream",
     "name": "stdout",
     "text": [
      "0 is a prime number\n",
      "1 is a prime number\n",
      "2 is a prime number\n",
      "3 is a prime number\n",
      "4 equals 2 * 2\n",
      "5 is a prime number\n",
      "6 equals 2 * 3\n",
      "7 is a prime number\n",
      "8 equals 2 * 4\n",
      "9 equals 3 * 3\n"
     ]
    }
   ],
   "metadata": {}
  },
  {
   "cell_type": "code",
   "execution_count": 22,
   "source": [
    "for num in range(2, 10):\n",
    "    if num % 2 == 0:\n",
    "        print(\"Found an even number\", num)\n",
    "        continue\n",
    "    print(\"Found an odd number\", num)"
   ],
   "outputs": [
    {
     "output_type": "stream",
     "name": "stdout",
     "text": [
      "Found an even number 2\n",
      "Found an odd number 3\n",
      "Found an even number 4\n",
      "Found an odd number 5\n",
      "Found an even number 6\n",
      "Found an odd number 7\n",
      "Found an even number 8\n",
      "Found an odd number 9\n"
     ]
    }
   ],
   "metadata": {}
  },
  {
   "cell_type": "markdown",
   "source": [
    "## Pass statement"
   ],
   "metadata": {}
  },
  {
   "cell_type": "markdown",
   "source": [
    "The pass statement does nothing. It can be used when a statement is required syntactically but the program requires no action. For example:"
   ],
   "metadata": {}
  },
  {
   "cell_type": "code",
   "execution_count": null,
   "source": [
    "while True:\n",
    "     pass  # Busy-wait for keyboard interrupt (Ctrl+C)"
   ],
   "outputs": [],
   "metadata": {}
  },
  {
   "cell_type": "code",
   "execution_count": 24,
   "source": [
    "class MyEmptyClass:\n",
    "     pass"
   ],
   "outputs": [],
   "metadata": {}
  },
  {
   "cell_type": "code",
   "execution_count": 27,
   "source": [
    "def initlog(*args):\n",
    "    pass   # Remember to implement this!"
   ],
   "outputs": [],
   "metadata": {}
  },
  {
   "cell_type": "markdown",
   "source": [
    "## Nested loops"
   ],
   "metadata": {}
  },
  {
   "cell_type": "markdown",
   "source": [
    "here is an if-else condition inside the while loop which enables us to introduce further conditions in your code"
   ],
   "metadata": {}
  },
  {
   "cell_type": "code",
   "execution_count": 40,
   "source": [
    "# Take user input\n",
    "number = 2 \n",
    "\n",
    "# condition of the while loop\n",
    "while number < 5 :  \n",
    "    # condition of the nested while loop    \n",
    "    while number % 2 == 0: \n",
    "        print(\"The number \"+ str(number)+\" is even\")\n",
    "        break\n",
    "    number += 1"
   ],
   "outputs": [
    {
     "output_type": "stream",
     "name": "stdout",
     "text": [
      "The number 2 is even\n",
      "The number 4 is even\n"
     ]
    }
   ],
   "metadata": {}
  },
  {
   "cell_type": "code",
   "execution_count": null,
   "source": [
    "# Print the below statement 3 times\n",
    "for number in range(3) :  \n",
    "    print(\"-------------------------------------------\")\n",
    "    print(\"I am outer loop iteration \"+str(number))\n",
    "    # Inner loop\n",
    "    for another_number in range(5):  \n",
    "        print(\"****************************\")\n",
    "        print(\"I am inner loop iteration \"+str(another_number))"
   ],
   "outputs": [],
   "metadata": {}
  },
  {
   "cell_type": "code",
   "execution_count": 38,
   "source": [
    "# Initialize the first five rows\n",
    "n = 5\n",
    "\n",
    "# Start the loop to print the first five rows\n",
    "for i in range(n):\n",
    "    for j in range(i):\n",
    "        print('* ', end=\"\")\n",
    "    print('')\n",
    "\n",
    "# Start the loop to print the remaining rows in decreasing order of stars\n",
    "for i in range(n,0,-1):\n",
    "    for j in range(i):\n",
    "        print('* ', end=\"\")\n",
    "    print('')"
   ],
   "outputs": [
    {
     "output_type": "stream",
     "name": "stdout",
     "text": [
      "\n",
      "* \n",
      "* * \n",
      "* * * \n",
      "* * * * \n",
      "* * * * * \n",
      "* * * * \n",
      "* * * \n",
      "* * \n",
      "* \n"
     ]
    }
   ],
   "metadata": {}
  },
  {
   "cell_type": "code",
   "execution_count": null,
   "source": [],
   "outputs": [],
   "metadata": {}
  }
 ],
 "metadata": {
  "orig_nbformat": 4,
  "language_info": {
   "name": "python",
   "version": "3.8.10",
   "mimetype": "text/x-python",
   "codemirror_mode": {
    "name": "ipython",
    "version": 3
   },
   "pygments_lexer": "ipython3",
   "nbconvert_exporter": "python",
   "file_extension": ".py"
  },
  "kernelspec": {
   "name": "python3",
   "display_name": "Python 3.8.10 64-bit"
  },
  "interpreter": {
   "hash": "916dbcbb3f70747c44a77c7bcd40155683ae19c65e1c03b4aa3499c5328201f1"
  }
 },
 "nbformat": 4,
 "nbformat_minor": 2
}