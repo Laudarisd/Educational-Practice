{
 "cells": [
  {
   "cell_type": "markdown",
   "source": [
    "The Python language has many similarities to Perl, C, and Java. However, there are some definite differences between the languages.|"
   ],
   "metadata": {}
  },
  {
   "cell_type": "markdown",
   "source": [
    "# Python Identifiers"
   ],
   "metadata": {}
  },
  {
   "cell_type": "markdown",
   "source": [
    "A Python identifier is a name used to identify a variable, function, class, module or other object. An identifier starts with a letter A to Z or a to z or an underscore (_) followed by zero or more letters, underscores and digits (0 to 9).\n",
    "\n",
    "Python does not allow punctuation characters such as @, $, and % within identifiers. Python is a case sensitive programming language. Thus, Manpower and manpower are two different identifiers in Python.\n",
    "\n",
    "Here are naming conventions for Python identifiers −\n",
    "\n",
    " - Class names start with an uppercase letter. All other identifiers start with a lowercase letter.\n",
    "\n",
    "- Starting an identifier with a single leading underscore indicates that the identifier is private.\n",
    "\n",
    "- Starting an identifier with two leading underscores indicates a strongly private identifier.\n",
    "\n",
    " - If the identifier also ends with two trailing underscores, the identifier is a language-defined special name."
   ],
   "metadata": {}
  },
  {
   "cell_type": "markdown",
   "source": [
    "# Reserved Words"
   ],
   "metadata": {}
  },
  {
   "cell_type": "markdown",
   "source": [
    "The following list shows the Python keywords. These are reserved words and you cannot use them as constant or variable or any other identifier names. All the Python keywords contain lowercase letters only.\n",
    "\n",
    "|and\t| exec\t| not|\n",
    "|-------|--------|-----|\n",
    "|assert |\tfinally | \tor|\n",
    "|break\t| for\t| pass|\n",
    "|class\t| from\t| print|\n",
    "|continue\t| global\t| raise|\n",
    "|def\t| if\t| return|\n",
    "|del\t| import\t| try|\n",
    "|elif\t| in\t| while|\n",
    "|else\t| is\t| with|\n",
    "|except\t| lambda\t| yield|"
   ],
   "metadata": {}
  },
  {
   "cell_type": "markdown",
   "source": [
    "# Lines and Indentation"
   ],
   "metadata": {}
  },
  {
   "cell_type": "code",
   "execution_count": 5,
   "source": [
    "if True:\n",
    "    print(True)\n",
    "else:\n",
    "    print(False)"
   ],
   "outputs": [
    {
     "output_type": "stream",
     "name": "stdout",
     "text": [
      "True\n"
     ]
    }
   ],
   "metadata": {}
  },
  {
   "cell_type": "code",
   "execution_count": null,
   "source": [
    "#!/usr/bin/python\n",
    "\n",
    "import sys\n",
    "\n",
    "file_name = \"./my.txt\"\n",
    "\n",
    "try:\n",
    "   # open file stream\n",
    "   file = open(file_name, \"w\")\n",
    "except IOError:\n",
    "   print (\"There was an error writing to\", file_name)\n",
    "   sys.exit()\n",
    "print (\"Enter '\", file_finish)\n",
    "print (\"' When finished\")\n",
    "while file_text != file_finish:\n",
    "   file_text = raw_input(\"Enter text: \")\n",
    "   if file_text == file_finish:\n",
    "      # close the file\n",
    "      file.close\n",
    "      break\n",
    "   file.write(file_text)\n",
    "   file.write(\"\\n\")\n",
    "file.close()\n",
    "file_name = raw_input(\"Enter filename: \")\n",
    "if len(file_name) == 0:\n",
    "   print (\"Next time please enter something\")\n",
    "   sys.exit()\n",
    "try:\n",
    "   file = open(file_name, \"r\")\n",
    "except IOError:\n",
    "   print (\"There was an error reading file\")\n",
    "   sys.exit()\n",
    "file_text = file.read()\n",
    "file.close()\n",
    "print (file_text)"
   ],
   "outputs": [],
   "metadata": {}
  },
  {
   "cell_type": "markdown",
   "source": [
    "# Multi-Line Statements"
   ],
   "metadata": {}
  },
  {
   "cell_type": "code",
   "execution_count": null,
   "source": [
    "total = item_one + \\\n",
    "        item_two + \\\n",
    "        item_three"
   ],
   "outputs": [],
   "metadata": {}
  },
  {
   "cell_type": "markdown",
   "source": [
    "Statements contained within the [], {}, or () brackets do not need to use the line continuation character. For example −"
   ],
   "metadata": {}
  },
  {
   "cell_type": "code",
   "execution_count": 13,
   "source": [
    "days = ['Monday', 'Tuesday', 'Wednesday',\n",
    "        'Thursday', 'Friday']"
   ],
   "outputs": [],
   "metadata": {}
  },
  {
   "cell_type": "markdown",
   "source": [
    "# Quotation in Python"
   ],
   "metadata": {}
  },
  {
   "cell_type": "markdown",
   "source": [
    "Python accepts single ('), double (\") and triple (''' or \"\"\") quotes to denote string literals, as long as the same type of quote starts and ends the string."
   ],
   "metadata": {}
  },
  {
   "cell_type": "markdown",
   "source": [
    "# Comments in Python"
   ],
   "metadata": {}
  },
  {
   "cell_type": "code",
   "execution_count": 15,
   "source": [
    "# First comment\n",
    "print (\"Hello, Python!\") # second comment"
   ],
   "outputs": [
    {
     "output_type": "stream",
     "name": "stdout",
     "text": [
      "Hello, Python!\n"
     ]
    }
   ],
   "metadata": {}
  },
  {
   "cell_type": "code",
   "execution_count": 16,
   "source": [
    "'''\n",
    "This is a multiline\n",
    "comment.\n",
    "'''"
   ],
   "outputs": [
    {
     "output_type": "execute_result",
     "data": {
      "text/plain": [
       "'\\nThis is a multiline\\ncomment.\\n'"
      ]
     },
     "metadata": {},
     "execution_count": 16
    }
   ],
   "metadata": {}
  },
  {
   "cell_type": "markdown",
   "source": [
    "# Waiting for the User"
   ],
   "metadata": {}
  },
  {
   "cell_type": "code",
   "execution_count": null,
   "source": [
    "print('Enter your name:')\n",
    "x = input()\n",
    "print('Hello, ' + x)"
   ],
   "outputs": [],
   "metadata": {}
  }
 ],
 "metadata": {
  "orig_nbformat": 4,
  "language_info": {
   "name": "python",
   "version": "3.8.10",
   "mimetype": "text/x-python",
   "codemirror_mode": {
    "name": "ipython",
    "version": 3
   },
   "pygments_lexer": "ipython3",
   "nbconvert_exporter": "python",
   "file_extension": ".py"
  },
  "kernelspec": {
   "name": "python3",
   "display_name": "Python 3.8.10 64-bit"
  },
  "interpreter": {
   "hash": "916dbcbb3f70747c44a77c7bcd40155683ae19c65e1c03b4aa3499c5328201f1"
  }
 },
 "nbformat": 4,
 "nbformat_minor": 2
}