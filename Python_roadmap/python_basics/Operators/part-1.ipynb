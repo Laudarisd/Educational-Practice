{
 "cells": [
  {
   "cell_type": "markdown",
   "source": [
    "# Python Arithmetic Operators"
   ],
   "metadata": {}
  },
  {
   "cell_type": "markdown",
   "source": [
    "|Operator\t|Name\t|Example|\n",
    "|------------|------|-------|\n",
    "|+\t|Addition\t|x + y\t|\n",
    "|-\t|Subtraction\t|x - y\t|\n",
    "|*\t|Multiplication\t|x * y\t|\n",
    "|/\t|Division\t|x / y\t|\n",
    "|%\t|Modulus\t|x % y\t|\n",
    "|**|\tExponentiation\t|x ** y\t|\n",
    "|//|\tFloor division\t|x // y|"
   ],
   "metadata": {}
  },
  {
   "cell_type": "markdown",
   "source": [
    "# Python Assignment Operators"
   ],
   "metadata": {}
  },
  {
   "cell_type": "markdown",
   "source": [],
   "metadata": {}
  },
  {
   "cell_type": "markdown",
   "source": [
    "|Operator\t|Example\t|Same As\t|\n",
    "|----------|--------|--------|\n",
    "|=\t|x = 5\t|x = 5\t|\n",
    "|+=\t|x += 3\t|x = x + 3\t|\n",
    "|-=\t|x -= 3\t|x = x - 3\t|\n",
    "|*=\t|x *= 3\t|x = x * 3\t|\n",
    "|/=\t|x /= 3\t|x = x / 3\t|\n",
    "|%=\t|x %= 3\t|x = x % 3\t|\n",
    "|//=\t|x //= 3\t|x = x // 3\t|\n",
    "|**=\t|x **= 3\t|x = x ** 3\t|\n",
    "|&=\t|x &= 3\t|x = x & 3\t|\n",
    "||=\t|x |= 3\t|x = x | 3\t|\n",
    "|^=\t|x ^= 3\t|x = x ^ 3\t|\n",
    "|>>=\t|x >>= 3\t|x = x >> 3\t|\n",
    "|<<=\t|x <<= 3\t|x = x << 3|"
   ],
   "metadata": {}
  },
  {
   "cell_type": "markdown",
   "source": [
    "# Python Comparison Operators"
   ],
   "metadata": {}
  },
  {
   "cell_type": "markdown",
   "source": [],
   "metadata": {}
  },
  {
   "cell_type": "markdown",
   "source": [
    "|Operator\t|Name\t|Example|\n",
    "|----------|--------|--------|\n",
    "|==\t  |Equal\t|x == y\t|\n",
    "|!=\t |Not equal\t| x != y\t|\n",
    "|>\t| Greater than\t| x > y\t|\n",
    "|<\t| Less than\t| x < y\t|\n",
    "|>=\t |Greater than or equal to\t|x >= y\t|\n",
    "|<=\t |Less than or equal to\t |x <= y|"
   ],
   "metadata": {}
  },
  {
   "cell_type": "markdown",
   "source": [
    "# Python Bitwise Operators\n"
   ],
   "metadata": {}
  },
  {
   "cell_type": "markdown",
   "source": [
    "|Operator\t|Name\t|Description|\n",
    "|-----------|-------|------------|\n",
    "|& \t|AND\t| Sets each bit to 1 if both bits are 1|\n",
    "|\t|OR\t| Sets each bit to 1 if one of two bits is 1|\n",
    "| ^\t|XOR |\tSets each bit to 1 if only one of two bits is 1|\n",
    "|~ \t|NOT |\tInverts all the bits|\n",
    "|<<\t|Zero  fill left shift |\tShift left by pushing zeros in from the     right and let the leftmost bits fall off|\n",
    "|>>\t|Signed right shift |\tShift right by pushing copies of the leftmost bit in from the left, and let the rightmost bits fall off|"
   ],
   "metadata": {}
  },
  {
   "cell_type": "markdown",
   "source": [],
   "metadata": {}
  }
 ],
 "metadata": {
  "orig_nbformat": 4,
  "language_info": {
   "name": "python"
  }
 },
 "nbformat": 4,
 "nbformat_minor": 2
}