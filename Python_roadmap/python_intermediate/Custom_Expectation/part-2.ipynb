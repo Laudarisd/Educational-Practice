{
 "cells": [
  {
   "cell_type": "markdown",
   "metadata": {},
   "source": [
    "# hello, great expectations"
   ]
  },
  {
   "cell_type": "code",
   "execution_count": 3,
   "metadata": {},
   "outputs": [],
   "source": [
    "train = ge.read_csv(\"./train.csv\")\n",
    "train.expect_column_values_to_not_be_null(\"type\")\n",
    "train.save_expectation_suite(\"./my_expectations.json\")"
   ]
  },
  {
   "cell_type": "code",
   "execution_count": 4,
   "metadata": {},
   "outputs": [],
   "source": [
    "test = ge.read_csv(\"./train.csv\")\n",
    "validation_results = test.validate(expectation_suite=\"my_expectations.json\")\n"
   ]
  },
  {
   "cell_type": "code",
   "execution_count": 5,
   "metadata": {},
   "outputs": [
    {
     "name": "stdout",
     "output_type": "stream",
     "text": [
      "giddy up!\n"
     ]
    }
   ],
   "source": [
    "if validation_results[\"success\"]:\n",
    "    print(\"giddy up!\")\n",
    "else:\n",
    "    raise Exception(\"Oh shit.\")"
   ]
  },
  {
   "cell_type": "code",
   "execution_count": 7,
   "metadata": {},
   "outputs": [],
   "source": [
    "from great_expectations.data_asset import DataAsset\n",
    "from great_expectations.dataset import SqlAlchemyDataset\n",
    "\n",
    "import numpy as np\n",
    "import scipy.stats as stats\n",
    "import sqlalchemy as sa\n",
    "\n",
    "class CustomSqlAlchemyDataset(SqlAlchemyDataset):\n",
    "\n",
    "    _data_asset_type = \"CustomSqlAlchemyDataset\"\n",
    "\n",
    "    @DataAsset.expectation([\"column\", \"distribution\", \"p_value\"])\n",
    "    def expect_column_parameterized_distribution_ks_test_p_value_to_be_greater_than(\n",
    "            self,\n",
    "            column,\n",
    "            distribution,\n",
    "            p_value=0.05,\n",
    "            params=None,\n",
    "            result_format=None,\n",
    "            include_config=True,\n",
    "            catch_exceptions=None,\n",
    "            meta=None\n",
    "    ):\n",
    "        if p_value <= 0 or p_value >= 1:\n",
    "            raise ValueError(\"p_value must be between 0 and 1\")\n",
    "\n",
    "        positional_parameters = (params['s'], params['loc'], params['scale'])\n",
    "\n",
    "        rows = self.engine.execute(sa.select([\n",
    "            sa.column(column)\n",
    "        ]).select_from(self._table)).fetchall()\n",
    "\n",
    "        column = np.array([col[0] for col in rows])\n",
    "\n",
    "        # K-S Test\n",
    "        ks_result = stats.kstest(column, distribution, args=positional_parameters)\n",
    "\n",
    "        return {\n",
    "            \"success\": ks_result[1] >= p_value,\n",
    "            \"result\": {\n",
    "                \"observed_value\": ks_result[1],\n",
    "                \"details\": {\n",
    "                    \"expected_params\": params,\n",
    "                    \"observed_ks_result\": ks_result\n",
    "                }\n",
    "            }\n",
    "        }"
   ]
  },
  {
   "cell_type": "code",
   "execution_count": 8,
   "metadata": {},
   "outputs": [
    {
     "ename": "KeyError",
     "evalue": "'DB_USER'",
     "output_type": "error",
     "traceback": [
      "\u001b[0;31m---------------------------------------------------------------------------\u001b[0m",
      "\u001b[0;31mKeyError\u001b[0m                                  Traceback (most recent call last)",
      "\u001b[0;32m<ipython-input-8-ddbc17efed19>\u001b[0m in \u001b[0;36m<module>\u001b[0;34m\u001b[0m\n\u001b[1;32m      8\u001b[0m \u001b[0;31m# 1) Load in a new batch of data\u001b[0m\u001b[0;34m\u001b[0m\u001b[0;34m\u001b[0m\u001b[0;34m\u001b[0m\u001b[0m\n\u001b[1;32m      9\u001b[0m db_string = \"postgres://{user}:{password}@{host}:{port}/{dbname}\".format(\n\u001b[0;32m---> 10\u001b[0;31m     \u001b[0muser\u001b[0m\u001b[0;34m=\u001b[0m\u001b[0mos\u001b[0m\u001b[0;34m.\u001b[0m\u001b[0menviron\u001b[0m\u001b[0;34m[\u001b[0m\u001b[0;34m\"DB_USER\"\u001b[0m\u001b[0;34m]\u001b[0m\u001b[0;34m,\u001b[0m\u001b[0;34m\u001b[0m\u001b[0;34m\u001b[0m\u001b[0m\n\u001b[0m\u001b[1;32m     11\u001b[0m     \u001b[0mpassword\u001b[0m\u001b[0;34m=\u001b[0m\u001b[0mos\u001b[0m\u001b[0;34m.\u001b[0m\u001b[0menviron\u001b[0m\u001b[0;34m[\u001b[0m\u001b[0;34m\"DB_PASSWORD\"\u001b[0m\u001b[0;34m]\u001b[0m\u001b[0;34m,\u001b[0m\u001b[0;34m\u001b[0m\u001b[0;34m\u001b[0m\u001b[0m\n\u001b[1;32m     12\u001b[0m     \u001b[0mport\u001b[0m\u001b[0;34m=\u001b[0m\u001b[0mos\u001b[0m\u001b[0;34m.\u001b[0m\u001b[0menviron\u001b[0m\u001b[0;34m[\u001b[0m\u001b[0;34m\"DB_PORT\"\u001b[0m\u001b[0;34m]\u001b[0m\u001b[0;34m,\u001b[0m\u001b[0;34m\u001b[0m\u001b[0;34m\u001b[0m\u001b[0m\n",
      "\u001b[0;32m/usr/lib/python3.8/os.py\u001b[0m in \u001b[0;36m__getitem__\u001b[0;34m(self, key)\u001b[0m\n\u001b[1;32m    673\u001b[0m         \u001b[0;32mexcept\u001b[0m \u001b[0mKeyError\u001b[0m\u001b[0;34m:\u001b[0m\u001b[0;34m\u001b[0m\u001b[0;34m\u001b[0m\u001b[0m\n\u001b[1;32m    674\u001b[0m             \u001b[0;31m# raise KeyError with the original key value\u001b[0m\u001b[0;34m\u001b[0m\u001b[0;34m\u001b[0m\u001b[0;34m\u001b[0m\u001b[0m\n\u001b[0;32m--> 675\u001b[0;31m             \u001b[0;32mraise\u001b[0m \u001b[0mKeyError\u001b[0m\u001b[0;34m(\u001b[0m\u001b[0mkey\u001b[0m\u001b[0;34m)\u001b[0m \u001b[0;32mfrom\u001b[0m \u001b[0;32mNone\u001b[0m\u001b[0;34m\u001b[0m\u001b[0;34m\u001b[0m\u001b[0m\n\u001b[0m\u001b[1;32m    676\u001b[0m         \u001b[0;32mreturn\u001b[0m \u001b[0mself\u001b[0m\u001b[0;34m.\u001b[0m\u001b[0mdecodevalue\u001b[0m\u001b[0;34m(\u001b[0m\u001b[0mvalue\u001b[0m\u001b[0;34m)\u001b[0m\u001b[0;34m\u001b[0m\u001b[0;34m\u001b[0m\u001b[0m\n\u001b[1;32m    677\u001b[0m \u001b[0;34m\u001b[0m\u001b[0m\n",
      "\u001b[0;31mKeyError\u001b[0m: 'DB_USER'"
     ]
    }
   ],
   "source": [
    "import json\n",
    "import os\n",
    "\n",
    "from great_expectations.dataset import SqlAlchemyDataset\n",
    "import requests\n",
    "from sqlalchemy import create_engine\n",
    "\n",
    "# 1) Load in a new batch of data\n",
    "db_string = \"postgres://{user}:{password}@{host}:{port}/{dbname}\".format(\n",
    "    user=os.environ[\"DB_USER\"],\n",
    "    password=os.environ[\"DB_PASSWORD\"],\n",
    "    port=os.environ[\"DB_PORT\"],\n",
    "    dbname=os.environ[\"DB_DBNAME\"],\n",
    "    host=os.environ[\"DB_HOST\"],\n",
    ")\n",
    "db_engine = create_engine(db_string)\n",
    "query = \"\"\"\n",
    "    SELECT *\n",
    "    FROM\n",
    "        listings\n",
    "    WHERE\n",
    "        DATE_TRUNC('day', created_at) = CURRENT_DATE - INTERVAL '1' DAY\n",
    "\"\"\"\n",
    "recent_listings = SqlAlchemyDataset(custom_sql=query, engine=db_engine)\n",
    "\n",
    "# 2) Validate it against stored expectation suite\n",
    "validation_results = recent_listings.validate(\n",
    "    expectation_suite=\"listings_expectations.json\"\n",
    ")\n",
    "\n",
    "# 3) Take action based on the validation results\n",
    "if not validation_results[\"success\"]:\n",
    "    num_evaluated = validation_results[\"statistics\"][\"evaluated_expectations\"]\n",
    "    num_successful = validation_results[\"statistics\"][\"successful_expectations\"]\n",
    "    validation_results_text = json.dumps(\n",
    "        [result.to_json_dict() for result in validation_results[\"results\"]],\n",
    "        sort_keys=True,\n",
    "        indent=4,\n",
    "    )\n",
    "    slack_data = {\n",
    "        \"text\": (\n",
    "            f\"⚠️ Dataset has failed expecations\\n\"\n",
    "            f\"*Successful Expectations*: `{num_successful}/{num_evaluated}`\\n\"\n",
    "            f\"*Results*: ```\\n{validation_results_text}\\n```\"\n",
    "        )\n",
    "    }\n",
    "\n",
    "    response = requests.post(\n",
    "        os.environ['SLACK_WEBHOOK'],\n",
    "        data=json.dumps(slack_data),\n",
    "        headers={\"Content-Type\": \"application/json\"},\n",
    "    )"
   ]
  },
  {
   "cell_type": "code",
   "execution_count": null,
   "metadata": {},
   "outputs": [],
   "source": []
  }
 ],
 "metadata": {
  "interpreter": {
   "hash": "916dbcbb3f70747c44a77c7bcd40155683ae19c65e1c03b4aa3499c5328201f1"
  },
  "kernelspec": {
   "display_name": "Python 3.8.10 64-bit",
   "name": "python3"
  },
  "language_info": {
   "codemirror_mode": {
    "name": "ipython",
    "version": 3
   },
   "file_extension": ".py",
   "mimetype": "text/x-python",
   "name": "python",
   "nbconvert_exporter": "python",
   "pygments_lexer": "ipython3",
   "version": "3.8.10"
  },
  "orig_nbformat": 4
 },
 "nbformat": 4,
 "nbformat_minor": 2
}
