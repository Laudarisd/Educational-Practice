{
 "cells": [
  {
   "cell_type": "markdown",
   "metadata": {},
   "source": [
    "Create a deck of cards class. Internally, the deck of cards should use another class, a card class. Your requirements are:\n",
    "\n",
    "- The Deck class should have a deal method to deal a single card from the deck\n",
    "After a card is dealt, it is removed from the deck.\n",
    "- There should be a shuffle method which makes sure the deck of cards has all 52 cards and then rearranges them randomly.\n",
    "- The Card class should have a suit (Hearts, Diamonds, Clubs, Spades) and a value (A,2,3,4,5,6,7,8,9,10,J,Q,K)"
   ]
  },
  {
   "cell_type": "code",
   "execution_count": 9,
   "metadata": {},
   "outputs": [
    {
     "name": "stdout",
     "output_type": "stream",
     "text": [
      "A of Heart\n"
     ]
    }
   ],
   "source": [
    "from random import shuffle\n",
    "\n",
    "class Card:\n",
    "    def __init__(self, suit, value):\n",
    "        self.suit = suit\n",
    "        self.value = value\n",
    "    def __repr__(self):\n",
    "        return \"{} of {}\".format(self.value, self.suit)\n",
    "class Deck:\n",
    "    def __init__(self):\n",
    "        suits = [\"Hearts\", \"Diamond\", \"clubs\", \"Spades\"]\n",
    "        values = ['A','2','3','4','5','6','7','8','9','10','J','Q','K']\n",
    "        self.card = [Card(suit, value) for suit in suits for value in values]\n",
    "    \n",
    "    def __repr__(self):\n",
    "        return \"Cards remaining in deck: {}\".format(len(self.cards))\n",
    "\n",
    "    def shuffle(self):\n",
    "        if len(self.cards) < 52:\n",
    "            raise ValueError(\"Only full decks can be shuffled\")\n",
    "        shuffle(self.cards)\n",
    "        return self\n",
    "\n",
    "    def deal(self):\n",
    "        if len(self.cards) == 0:\n",
    "            raise ValueError(\"All cards have been dealt\")\n",
    "        return self.cards.pop()\n",
    "\n",
    "print(Card(\"Heart\", \"A\"))"
   ]
  },
  {
   "cell_type": "code",
   "execution_count": 12,
   "metadata": {},
   "outputs": [
    {
     "name": "stdout",
     "output_type": "stream",
     "text": [
      "9\n"
     ]
    }
   ],
   "source": [
    "\"\"\"Define a class named Shape and its subclass Square. The Square class has an init function which takes a length as argument. Both classes have a area function which can print the area of the shape where Shape's area is 0 by default.\n",
    "\n",
    "Hints:\n",
    "\n",
    "To override a method in super class, we can define a method with the same name in the super class.\n",
    "\n",
    "Solution:\n",
    "\"\"\"\n",
    "class Shape(object):\n",
    "    def __init__(self):\n",
    "        pass\n",
    "\n",
    "    def area(self):\n",
    "        return 0\n",
    "\n",
    "class Square(Shape):\n",
    "    def __init__(self, l):\n",
    "        Shape.__init__(self)\n",
    "        self.length = l\n",
    "\n",
    "    def area(self):\n",
    "        return self.length*self.length\n",
    "\n",
    "aSquare= Square(3)\n",
    "print (aSquare.area())"
   ]
  },
  {
   "cell_type": "code",
   "execution_count": 14,
   "metadata": {},
   "outputs": [
    {
     "name": "stdout",
     "output_type": "stream",
     "text": [
      "20\n"
     ]
    }
   ],
   "source": [
    "\"\"\"Define a class named Rectangle which can be constructed by a length and width. The Rectangle class has a method which can compute the area. \n",
    "\n",
    "Hints:\n",
    "\n",
    "Use def methodName(self) to define a method.\n",
    "\n",
    "Solution:\n",
    "\"\"\"\n",
    "class Rectangle(object):\n",
    "    def __init__(self, l, w):\n",
    "        self.length = l\n",
    "        self.width  = w\n",
    "\n",
    "    def area(self):\n",
    "        return self.length*self.width\n",
    "\t\n",
    "aRectangle = Rectangle(2,10)\n",
    "print (aRectangle.area())"
   ]
  },
  {
   "cell_type": "code",
   "execution_count": 18,
   "metadata": {},
   "outputs": [
    {
     "name": "stdout",
     "output_type": "stream",
     "text": [
      "20000\n",
      "Rasford\n",
      "Rasford salary is 20000\n"
     ]
    }
   ],
   "source": [
    "class Employee:\n",
    "    def __init__(self, salary, name):\n",
    "        self.salary = salary\n",
    "        self.name = name\n",
    "empl = Employee(20000, \"Rasford\")\n",
    "print(empl.salary)\n",
    "print(empl.name)\n",
    "\n",
    "print(empl.name, \"salary is\", empl.salary)"
   ]
  },
  {
   "cell_type": "code",
   "execution_count": 19,
   "metadata": {},
   "outputs": [
    {
     "name": "stdout",
     "output_type": "stream",
     "text": [
      "1\n",
      "my_func\n"
     ]
    }
   ],
   "source": [
    "\n",
    "def someDecorator(arg=None):\n",
    "    def decorator(func):\n",
    "        def wrapper(*a, **ka):\n",
    "            if not callable(arg):\n",
    "                print(arg)\n",
    "                return func(*a, **ka)\n",
    "            else:\n",
    "                return 'xxxxx'\n",
    "        return wrapper\n",
    " \n",
    "    if callable(arg):\n",
    "        return decorator(arg)  # return 'wrapper'\n",
    "    else:\n",
    "        return decorator  # ... or 'decorator'\n",
    " \n",
    " \n",
    "@someDecorator(arg=1)\n",
    "def my_func():\n",
    "    print('my_func')\n",
    " \n",
    " \n",
    "@someDecorator\n",
    "def my_func1():\n",
    "    print('my_func1')\n",
    " \n",
    " \n",
    "if __name__ == \"__main__\":\n",
    "    my_func()\n",
    "    my_func1()"
   ]
  },
  {
   "cell_type": "code",
   "execution_count": null,
   "metadata": {},
   "outputs": [],
   "source": []
  }
 ],
 "metadata": {
  "interpreter": {
   "hash": "916dbcbb3f70747c44a77c7bcd40155683ae19c65e1c03b4aa3499c5328201f1"
  },
  "kernelspec": {
   "display_name": "Python 3.8.10 64-bit",
   "name": "python3"
  },
  "language_info": {
   "codemirror_mode": {
    "name": "ipython",
    "version": 3
   },
   "file_extension": ".py",
   "mimetype": "text/x-python",
   "name": "python",
   "nbconvert_exporter": "python",
   "pygments_lexer": "ipython3",
   "version": "3.8.10"
  },
  "orig_nbformat": 4
 },
 "nbformat": 4,
 "nbformat_minor": 2
}
