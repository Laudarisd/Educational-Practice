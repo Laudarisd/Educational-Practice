{
 "cells": [
  {
   "cell_type": "markdown",
   "metadata": {},
   "source": [
    "# Exceptions\n",
    "\n",
    "```Markdown\n",
    "Different exceptions are raised for different reasons.\n",
    "Common exceptions:\n",
    "ImportError: an import fails;\n",
    "IndexError: a list is indexed with an out-of-range number;\n",
    "NameError: an unknown variable is used;\n",
    "SyntaxError: the code can't be parsed properly;\n",
    "TypeError: a function is called on a value of an inappropriate type;\n",
    "ValueError: a function is called on a value of the correct type, but with an inappropriate value.\n",
    "```"
   ]
  },
  {
   "cell_type": "markdown",
   "metadata": {},
   "source": [
    "***Exception Handling***"
   ]
  },
  {
   "cell_type": "code",
   "execution_count": 1,
   "metadata": {},
   "outputs": [
    {
     "name": "stdout",
     "output_type": "stream",
     "text": [
      "An error occured\n",
      "due to zero division\n"
     ]
    }
   ],
   "source": [
    "try:\n",
    "    num1 = 7\n",
    "    num2 = 0\n",
    "    print(num1/num2)\n",
    "    print(\"Done calculation\")\n",
    "except ZeroDivisionError:\n",
    "    print(\"An error occured\")\n",
    "    print(\"due to zero division\")"
   ]
  },
  {
   "cell_type": "code",
   "execution_count": 2,
   "metadata": {},
   "outputs": [
    {
     "name": "stdout",
     "output_type": "stream",
     "text": [
      "Divided by zero\n"
     ]
    }
   ],
   "source": [
    "try:\n",
    "  meaning = 42\n",
    "  print(meaning / 0)\n",
    "  print(\"the meaning of life\")\n",
    "except (ValueError, TypeError):\n",
    "  print(\"ValueError or TypeError occurred\")\n",
    "except ZeroDivisionError:\n",
    "  print(\"Divided by zero\")"
   ]
  },
  {
   "cell_type": "markdown",
   "metadata": {},
   "source": [
    "## finally\n",
    "\n",
    "<p> After a try/except statement, a finally block can follow. It will execute after the try/except block, no matter if an exception occurred or not. </p>\n",
    "\n",
    "```Markdown\n",
    "The finally block is useful, for example, when working with files and resources: it can be used to make sure files or resources are closed or released regardless of whether an exception occurs.\n",
    "```"
   ]
  },
  {
   "cell_type": "code",
   "execution_count": 3,
   "metadata": {},
   "outputs": [
    {
     "name": "stdout",
     "output_type": "stream",
     "text": [
      "Hello\n",
      "Divided by zero\n",
      "This code will run no matter what\n"
     ]
    }
   ],
   "source": [
    "try:\n",
    "    print(\"Hello\")\n",
    "    print(1 / 0)\n",
    "except ZeroDivisionError:\n",
    "    print(\"Divided by zero\")\n",
    "finally:\n",
    "    print(\"This code will run no matter what\")"
   ]
  },
  {
   "cell_type": "markdown",
   "metadata": {},
   "source": [
    "## else"
   ]
  },
  {
   "cell_type": "code",
   "execution_count": 4,
   "metadata": {},
   "outputs": [
    {
     "name": "stdout",
     "output_type": "stream",
     "text": [
      "1\n",
      "3\n",
      "4\n"
     ]
    }
   ],
   "source": [
    "try:\n",
    "    print(1)\n",
    "except ZeroDivisionError:\n",
    "    print(2)\n",
    "else:\n",
    "    print(3)\n",
    "\n",
    "try:\n",
    "    print(1/0)\n",
    "except ZeroDivisionError:\n",
    "    print(4)\n",
    "else:\n",
    "    print(5)"
   ]
  },
  {
   "cell_type": "markdown",
   "metadata": {},
   "source": [
    "## Raising Exceptions\n",
    "\n",
    "<p> You can throw (or raise) exceptions when some condition occurs.\n",
    "For example, when you take user input that needs to be in a specific format, you can throw an exception when it does not meet the requirements.\n",
    "This is done using the raise statement. </p>\n"
   ]
  },
  {
   "cell_type": "code",
   "execution_count": 8,
   "metadata": {},
   "outputs": [
    {
     "ename": "ValueError",
     "evalue": "",
     "output_type": "error",
     "traceback": [
      "\u001b[0;31m---------------------------------------------------------------------------\u001b[0m",
      "\u001b[0;31mValueError\u001b[0m                                Traceback (most recent call last)",
      "\u001b[1;32m/Users/slau8405/Desktop/work_space/work_space/Python-roadmap/exceptions.ipynb Cell 10\u001b[0m in \u001b[0;36m<cell line: 2>\u001b[0;34m()\u001b[0m\n\u001b[1;32m      <a href='vscode-notebook-cell:/Users/slau8405/Desktop/work_space/work_space/Python-roadmap/exceptions.ipynb#X11sZmlsZQ%3D%3D?line=0'>1</a>\u001b[0m num \u001b[39m=\u001b[39m \u001b[39m102\u001b[39m\n\u001b[1;32m      <a href='vscode-notebook-cell:/Users/slau8405/Desktop/work_space/work_space/Python-roadmap/exceptions.ipynb#X11sZmlsZQ%3D%3D?line=1'>2</a>\u001b[0m \u001b[39mif\u001b[39;00m num \u001b[39m>\u001b[39m \u001b[39m100\u001b[39m:\n\u001b[0;32m----> <a href='vscode-notebook-cell:/Users/slau8405/Desktop/work_space/work_space/Python-roadmap/exceptions.ipynb#X11sZmlsZQ%3D%3D?line=2'>3</a>\u001b[0m   \u001b[39mraise\u001b[39;00m \u001b[39mValueError\u001b[39;00m\n",
      "\u001b[0;31mValueError\u001b[0m: "
     ]
    }
   ],
   "source": [
    "num = 102\n",
    "if num > 100:\n",
    "  raise ValueError"
   ]
  },
  {
   "cell_type": "code",
   "execution_count": 9,
   "metadata": {},
   "outputs": [
    {
     "ename": "NameError",
     "evalue": "Invalid name!",
     "output_type": "error",
     "traceback": [
      "\u001b[0;31m---------------------------------------------------------------------------\u001b[0m",
      "\u001b[0;31mNameError\u001b[0m                                 Traceback (most recent call last)",
      "\u001b[1;32m/Users/slau8405/Desktop/work_space/work_space/Python-roadmap/exceptions.ipynb Cell 11\u001b[0m in \u001b[0;36m<cell line: 2>\u001b[0;34m()\u001b[0m\n\u001b[1;32m      <a href='vscode-notebook-cell:/Users/slau8405/Desktop/work_space/work_space/Python-roadmap/exceptions.ipynb#X13sZmlsZQ%3D%3D?line=0'>1</a>\u001b[0m name \u001b[39m=\u001b[39m \u001b[39m\"\u001b[39m\u001b[39m123\u001b[39m\u001b[39m\"\u001b[39m\n\u001b[0;32m----> <a href='vscode-notebook-cell:/Users/slau8405/Desktop/work_space/work_space/Python-roadmap/exceptions.ipynb#X13sZmlsZQ%3D%3D?line=1'>2</a>\u001b[0m \u001b[39mraise\u001b[39;00m \u001b[39mNameError\u001b[39;00m(\u001b[39m\"\u001b[39m\u001b[39mInvalid name!\u001b[39m\u001b[39m\"\u001b[39m)\n",
      "\u001b[0;31mNameError\u001b[0m: Invalid name!"
     ]
    }
   ],
   "source": [
    "name = \"123\"\n",
    "raise NameError(\"Invalid name!\")"
   ]
  },
  {
   "cell_type": "code",
   "execution_count": 11,
   "metadata": {},
   "outputs": [
    {
     "data": {
      "text/plain": [
       "3"
      ]
     },
     "execution_count": 11,
     "metadata": {},
     "output_type": "execute_result"
    }
   ],
   "source": [
    "x = 0\n",
    "try:\n",
    "  x+=1\n",
    "  raise ValueError\n",
    "except NameError:\n",
    "  x+=1\n",
    "except ValueError:\n",
    "  x+=1\n",
    "else:\n",
    "  x+=1\n",
    "finally:\n",
    "  x+=1\n",
    "\n",
    "x"
   ]
  },
  {
   "cell_type": "code",
   "execution_count": 19,
   "metadata": {},
   "outputs": [
    {
     "name": "stdout",
     "output_type": "stream",
     "text": [
      "Account Created\n"
     ]
    }
   ],
   "source": [
    "\"\"\"\n",
    "The form has a name field, which should be more than 3 characters long.\n",
    "Any name that has less than 4 characters is invalid. \n",
    "\"\"\"\n",
    "\n",
    "try:\n",
    "    name = input(\"Enter your name: \")\n",
    "    if len(name) < 4:\n",
    "        raise ValueError\n",
    "    print(\"Account Created\")\n",
    "except:\n",
    "    print(\"Invalid name\")\n",
    "\n",
    "\n",
    "\n",
    "# enter: demo\n",
    "# output: Account Created\n"
   ]
  },
  {
   "cell_type": "code",
   "execution_count": null,
   "metadata": {},
   "outputs": [],
   "source": []
  }
 ],
 "metadata": {
  "kernelspec": {
   "display_name": "Python 3.10.7 64-bit",
   "language": "python",
   "name": "python3"
  },
  "language_info": {
   "codemirror_mode": {
    "name": "ipython",
    "version": 3
   },
   "file_extension": ".py",
   "mimetype": "text/x-python",
   "name": "python",
   "nbconvert_exporter": "python",
   "pygments_lexer": "ipython3",
   "version": "3.10.7"
  },
  "orig_nbformat": 4,
  "vscode": {
   "interpreter": {
    "hash": "b0fa6594d8f4cbf19f97940f81e996739fb7646882a419484c72d19e05852a7e"
   }
  }
 },
 "nbformat": 4,
 "nbformat_minor": 2
}
