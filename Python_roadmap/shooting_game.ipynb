{
 "cells": [
  {
   "cell_type": "markdown",
   "metadata": {},
   "source": [
    "## Shooting Game\n",
    "\n",
    "```Markdown\n",
    "You are creating a shooting game!\n",
    "The game has two types of enemies, aliens and monsters. You shoot the aliens using your laser, and monsters using your gun.\n",
    "Each hit decreases the lives of the enemies by 1.\n",
    "The given code declares a generic Enemy class, as well as the Alien and Monster classes, with their corresponding lives count.\n",
    "It also defines the hit() method for the Enemy class.\n",
    "\n",
    "You need to do the following to complete the program:\n",
    "1. Inherit the Alien and Monster classes from the Enemy class.\n",
    "2. Complete the while loop that continuously takes the weapon of choice from user input and call the corresponding object's hit() method.\n",
    "\n",
    "Sample Input\n",
    "laser\n",
    "laser\n",
    "gun\n",
    "exit\n",
    "\n",
    "Sample Output\n",
    "Alien has 4 lives\n",
    "Alien has 3 lives\n",
    "Monster has 2 lives\n",
    "```"
   ]
  },
  {
   "cell_type": "code",
   "execution_count": 2,
   "metadata": {},
   "outputs": [
    {
     "name": "stdout",
     "output_type": "stream",
     "text": [
      "Alien has 4 lives\n",
      "Alien has 3 lives\n",
      "Alien has 2 lives\n",
      "Alien has 1 lives\n",
      "Alien killed\n",
      "Monster has 2 lives\n",
      "Monster has 1 lives\n",
      "Monster killed\n"
     ]
    }
   ],
   "source": [
    "class Enemy:\n",
    "    name = \"\"\n",
    "    lives = 0\n",
    "    def __init__(self, name, lives):\n",
    "        self.name = name\n",
    "        self.lives = lives\n",
    "\n",
    "    def hit(self):\n",
    "        self.lives -= 1\n",
    "        if self.lives <= 0:\n",
    "            print(self.name + ' killed')\n",
    "        else:\n",
    "            print(self.name + ' has '+ str(self.lives) + ' lives')\n",
    "\n",
    "class Monster(Enemy):\n",
    "    def __init__(self):\n",
    "        super().__init__('Monster', 3)\n",
    "  \n",
    "    def hit(self):\n",
    "        super().hit()\n",
    "\n",
    "class Alien(Enemy):\n",
    "    def __init__(self):\n",
    "        super().__init__('Alien', 5)\n",
    "  \n",
    "    def hit(self):\n",
    "        super().hit()\n",
    "\n",
    "\n",
    "m = Monster()\n",
    "a = Alien()\n",
    "\n",
    "while True:\n",
    "    x = input()\n",
    "    if x == 'exit':\n",
    "        break\n",
    "    elif x == 'laser':\n",
    "        a.hit()\n",
    "    elif x == 'gun':\n",
    "        m.hit()"
   ]
  },
  {
   "cell_type": "code",
   "execution_count": null,
   "metadata": {},
   "outputs": [],
   "source": []
  }
 ],
 "metadata": {
  "kernelspec": {
   "display_name": "Python 3.10.7 64-bit",
   "language": "python",
   "name": "python3"
  },
  "language_info": {
   "codemirror_mode": {
    "name": "ipython",
    "version": 3
   },
   "file_extension": ".py",
   "mimetype": "text/x-python",
   "name": "python",
   "nbconvert_exporter": "python",
   "pygments_lexer": "ipython3",
   "version": "3.10.7"
  },
  "orig_nbformat": 4,
  "vscode": {
   "interpreter": {
    "hash": "b0fa6594d8f4cbf19f97940f81e996739fb7646882a419484c72d19e05852a7e"
   }
  }
 },
 "nbformat": 4,
 "nbformat_minor": 2
}
