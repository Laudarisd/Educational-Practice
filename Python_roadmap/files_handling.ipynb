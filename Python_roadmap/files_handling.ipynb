{
 "cells": [
  {
   "cell_type": "markdown",
   "metadata": {},
   "source": [
    "```Markdown\n",
    "We can use `open` command to open our files in python\n",
    "```"
   ]
  },
  {
   "cell_type": "code",
   "execution_count": 2,
   "metadata": {},
   "outputs": [
    {
     "name": "stdout",
     "output_type": "stream",
     "text": [
      "File not found\n"
     ]
    }
   ],
   "source": [
    "try:\n",
    "    myfile = open(\"filename.txt\")\n",
    "except FileNotFoundError:\n",
    "    print(\"File not found\")"
   ]
  },
  {
   "cell_type": "markdown",
   "metadata": {},
   "source": [
    "```Markdown\n",
    "You can specify the mode used to open a file by applying a second argument to the open function.\n",
    "Sending \"r\" means open in read mode, which is the default.\n",
    "Sending \"w\" means write mode, for rewriting the contents of a file.\n",
    "Sending \"a\" means append mode, for adding new content to the end of the file.\n",
    "```"
   ]
  },
  {
   "cell_type": "code",
   "execution_count": 4,
   "metadata": {},
   "outputs": [
    {
     "data": {
      "text/plain": [
       "<_io.TextIOWrapper name='filename.txt' mode='a' encoding='UTF-8'>"
      ]
     },
     "execution_count": 4,
     "metadata": {},
     "output_type": "execute_result"
    }
   ],
   "source": [
    "# write mode\n",
    "open(\"filename.txt\", \"w\")\n",
    "\n",
    "# read mode\n",
    "open(\"filename.txt\", \"r\")\n",
    "open(\"filename.txt\")\n",
    "\n",
    "# binary write mode\n",
    "open(\"filename.txt\", \"wb\")\n",
    "#append mode\n",
    "open(\"filename.txt\", \"a\")"
   ]
  },
  {
   "cell_type": "markdown",
   "metadata": {},
   "source": [
    "<p> Once file is open, after we are done with it, we should close it. </p>"
   ]
  },
  {
   "cell_type": "code",
   "execution_count": 5,
   "metadata": {},
   "outputs": [],
   "source": [
    "file = open(\"filename.txt\", \"w\")\n",
    "# do stuff to the file\n",
    "file.close()"
   ]
  },
  {
   "cell_type": "markdown",
   "metadata": {},
   "source": [
    "## Reading files"
   ]
  },
  {
   "cell_type": "code",
   "execution_count": 7,
   "metadata": {},
   "outputs": [
    {
     "name": "stdout",
     "output_type": "stream",
     "text": [
      "Hello World!\n"
     ]
    }
   ],
   "source": [
    "file = open(\"filename.txt\")\n",
    "\n",
    "cont = file.read()\n",
    "print(cont)\n",
    "file.close()"
   ]
  },
  {
   "cell_type": "markdown",
   "metadata": {},
   "source": [
    "<p> To read only a certain amount of a file, you can provide the number of bytes to read as an argument to the read function.\n",
    "Each ASCII character is 1 byte: </p>\n",
    "\n",
    "```python"
   ]
  },
  {
   "cell_type": "code",
   "execution_count": 8,
   "metadata": {},
   "outputs": [
    {
     "name": "stdout",
     "output_type": "stream",
     "text": [
      "Hello\n",
      " World!\n",
      "\n"
     ]
    }
   ],
   "source": [
    "file = open(\"filename.txt\")\n",
    "print(file.read(5))\n",
    "print(file.read(7))\n",
    "print(file.read())\n",
    "file.close()"
   ]
  },
  {
   "cell_type": "markdown",
   "metadata": {},
   "source": [
    "### Reading Files\n",
    "\n",
    "\n",
    "To retrieve each line in a file, you can use the readlines() method to return a list in which each element is a line in the file.\n"
   ]
  },
  {
   "cell_type": "code",
   "execution_count": 10,
   "metadata": {},
   "outputs": [
    {
     "name": "stdout",
     "output_type": "stream",
     "text": [
      "Hello World!\n"
     ]
    }
   ],
   "source": [
    "file = open(\"filename.txt\")\n",
    "\n",
    "for line in file.readlines():\n",
    "    print(line)\n",
    "\n",
    "file.close()\n"
   ]
  },
  {
   "cell_type": "markdown",
   "metadata": {},
   "source": [
    "<p> If you do not need the list for each line, you can simply iterate over the file variable:</p>"
   ]
  },
  {
   "cell_type": "code",
   "execution_count": 13,
   "metadata": {},
   "outputs": [
    {
     "name": "stdout",
     "output_type": "stream",
     "text": [
      "Hello World!\n"
     ]
    }
   ],
   "source": [
    "file = open(\"filename.txt\")\n",
    "\n",
    "for line in file:\n",
    "    print(line)\n",
    "file.close()"
   ]
  },
  {
   "cell_type": "code",
   "execution_count": 15,
   "metadata": {},
   "outputs": [
    {
     "name": "stdout",
     "output_type": "stream",
     "text": [
      "I am practising python.\n",
      "\n"
     ]
    }
   ],
   "source": [
    "file = open (\"filename.txt\", \"r\")\n",
    "cont = file.readlines()\n",
    "print(cont[1])\n",
    "file.close()"
   ]
  },
  {
   "cell_type": "markdown",
   "metadata": {},
   "source": [
    "## Writing filesd\n",
    "\n",
    "To write to a file, we must open it with the write mode.\n",
    "\n",
    "To write to files you use the write method."
   ]
  },
  {
   "cell_type": "code",
   "execution_count": 18,
   "metadata": {},
   "outputs": [],
   "source": [
    "file = open (\"filename.txt\", \"w\")\n",
    "file.write(\"This line is created by code.\") # using 'w' will overwrite the file\n",
    "file.close()"
   ]
  },
  {
   "cell_type": "markdown",
   "metadata": {},
   "source": [
    "<p> To add content to the file without overwriting the existing content, we can use the append mode. i.e 'a' </p>"
   ]
  },
  {
   "cell_type": "code",
   "execution_count": 22,
   "metadata": {},
   "outputs": [],
   "source": [
    "file = open (\"filename.txt\", \"a\")\n",
    "#make multiple lines in a list\n",
    "lines = [\"\\nThis is line 1\", \"\\nThis is line 2\", \"\\nThis is line 3\\n\"] #we can write multiple lines in new line\n",
    "file.writelines(lines)\n",
    "file.close()\n",
    "\n"
   ]
  },
  {
   "cell_type": "markdown",
   "metadata": {},
   "source": [
    "## Alternative way to open files"
   ]
  },
  {
   "cell_type": "code",
   "execution_count": 23,
   "metadata": {},
   "outputs": [
    {
     "name": "stdout",
     "output_type": "stream",
     "text": [
      "This line is created by code.\n",
      "\n",
      "This is line 1\n",
      "\n",
      "This is line 2\n",
      "\n",
      "This is line 3\n",
      "\n",
      "\n",
      "\n",
      "This is line 1\n",
      "\n",
      "This is line 2\n",
      "\n",
      "This is line 3\n",
      "\n"
     ]
    }
   ],
   "source": [
    "with open(\"./filename.txt\") as file:\n",
    "    for line in file:\n",
    "        print(line)"
   ]
  },
  {
   "cell_type": "code",
   "execution_count": 46,
   "metadata": {},
   "outputs": [
    {
     "name": "stdout",
     "output_type": "stream",
     "text": [
      "GoT\n",
      "HP\n",
      "LotR\n",
      "TH\n",
      "AMWSHF\n",
      "TA\n",
      "TPoN\n",
      "TFA\n",
      "T5LL\n",
      "T7HoHEP\n",
      "T7HoHEF\n",
      "TP\n",
      "PitS\n",
      "WaP\n"
     ]
    },
    {
     "ename": "IndexError",
     "evalue": "string index out of range",
     "output_type": "error",
     "traceback": [
      "\u001b[0;31m---------------------------------------------------------------------------\u001b[0m",
      "\u001b[0;31mIndexError\u001b[0m                                Traceback (most recent call last)",
      "\u001b[1;32m/Users/slau8405/Desktop/work_space/work_space/Python-roadmap/files_handling.ipynb Cell 22\u001b[0m in \u001b[0;36m<cell line: 4>\u001b[0;34m()\u001b[0m\n\u001b[1;32m      <a href='vscode-notebook-cell:/Users/slau8405/Desktop/work_space/work_space/Python-roadmap/files_handling.ipynb#X30sZmlsZQ%3D%3D?line=7'>8</a>\u001b[0m \u001b[39m#print(book)\u001b[39;00m\n\u001b[1;32m      <a href='vscode-notebook-cell:/Users/slau8405/Desktop/work_space/work_space/Python-roadmap/files_handling.ipynb#X30sZmlsZQ%3D%3D?line=8'>9</a>\u001b[0m \u001b[39mfor\u001b[39;00m word \u001b[39min\u001b[39;00m book:\n\u001b[0;32m---> <a href='vscode-notebook-cell:/Users/slau8405/Desktop/work_space/work_space/Python-roadmap/files_handling.ipynb#X30sZmlsZQ%3D%3D?line=9'>10</a>\u001b[0m      \u001b[39mprint\u001b[39m(word[\u001b[39m0\u001b[39;49m], end\u001b[39m=\u001b[39m\u001b[39m\"\u001b[39m\u001b[39m\"\u001b[39m)\n\u001b[1;32m     <a href='vscode-notebook-cell:/Users/slau8405/Desktop/work_space/work_space/Python-roadmap/files_handling.ipynb#X30sZmlsZQ%3D%3D?line=10'>11</a>\u001b[0m \u001b[39mprint\u001b[39m()\n",
      "\u001b[0;31mIndexError\u001b[0m: string index out of range"
     ]
    }
   ],
   "source": [
    "# get the first letter of each word from books name and return them. e,g. Game of Thrones = \"GoT\"\n",
    "\n",
    "file  = open(\"./bookd.txt\")\n",
    "for book in file:\n",
    "    book = book.strip()\n",
    "    #print(book)\n",
    "    book = book.split(\" \")\n",
    "    #print(book)\n",
    "    for word in book:\n",
    "         print(word[0], end=\"\")\n",
    "    print()"
   ]
  },
  {
   "cell_type": "code",
   "execution_count": null,
   "metadata": {},
   "outputs": [],
   "source": []
  }
 ],
 "metadata": {
  "kernelspec": {
   "display_name": "Python 3.10.7 64-bit",
   "language": "python",
   "name": "python3"
  },
  "language_info": {
   "codemirror_mode": {
    "name": "ipython",
    "version": 3
   },
   "file_extension": ".py",
   "mimetype": "text/x-python",
   "name": "python",
   "nbconvert_exporter": "python",
   "pygments_lexer": "ipython3",
   "version": "3.10.7"
  },
  "orig_nbformat": 4,
  "vscode": {
   "interpreter": {
    "hash": "b0fa6594d8f4cbf19f97940f81e996739fb7646882a419484c72d19e05852a7e"
   }
  }
 },
 "nbformat": 4,
 "nbformat_minor": 2
}
