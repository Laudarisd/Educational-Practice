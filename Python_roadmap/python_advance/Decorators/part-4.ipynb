{
 "cells": [
  {
   "cell_type": "markdown",
   "metadata": {},
   "source": [
    "# Let's see more examples of python decorator"
   ]
  },
  {
   "cell_type": "markdown",
   "metadata": {},
   "source": [
    "#### Decorators are nothing but functions that add new functionalities to the existing methods without changing them.\n",
    "\n",
    "To understand Decorators, you need to understand functions in Python, functions are first-class objects i.e we can assign multiple variables to the same function or we can even send them as arguments to other functions."
   ]
  },
  {
   "cell_type": "markdown",
   "metadata": {},
   "source": [
    "### 1. Assign a function to multiple variables.\n"
   ]
  },
  {
   "cell_type": "code",
   "execution_count": 4,
   "metadata": {},
   "outputs": [
    {
     "name": "stdout",
     "output_type": "stream",
     "text": [
      "ROAR\n",
      "MOW\n"
     ]
    },
    {
     "data": {
      "text/plain": [
       "'ROARROAR'"
      ]
     },
     "execution_count": 4,
     "metadata": {},
     "output_type": "execute_result"
    }
   ],
   "source": [
    "def func(x):\n",
    "    return x.upper()\n",
    "\n",
    "print(func(\"roar\"))\n",
    "\n",
    "new_func = func  # Assign func to variable\n",
    "\n",
    "print(new_func('mow'))\n",
    "\n",
    "del func \n",
    "\n",
    "# we can call the new_func even after deleting the fucn\n",
    "\n",
    "new_func(\"roar\" * 2)"
   ]
  },
  {
   "cell_type": "markdown",
   "metadata": {},
   "source": [
    "### 2. Create functions inside a function"
   ]
  },
  {
   "cell_type": "code",
   "execution_count": 6,
   "metadata": {},
   "outputs": [
    {
     "name": "stdout",
     "output_type": "stream",
     "text": [
      "24\n"
     ]
    }
   ],
   "source": [
    "def factorial(n):\n",
    "    \"\"\"\n",
    "    calculate the factorial of n,\n",
    "    n=> integer and n >= 0\n",
    "    \"\"\"\n",
    "    if type(n) == int and n >= 0:\n",
    "        if n == 0:\n",
    "            return 1\n",
    "        else:\n",
    "            return n *factorial(n-1)  #Recursive call\n",
    "    else:\n",
    "        raise TypeError(\"n should be an integer and n >=0\")\n",
    "\n",
    "print(factorial(4))"
   ]
  },
  {
   "cell_type": "code",
   "execution_count": 8,
   "metadata": {},
   "outputs": [
    {
     "name": "stdout",
     "output_type": "stream",
     "text": [
      "120\n"
     ]
    }
   ],
   "source": [
    "# inner function\n",
    "def factorial(n):\n",
    "    \"\"\" \n",
    "    Calculates the factorial of n, \n",
    "    n => integer and n >= 0.\n",
    "    \"\"\"\n",
    "    def inner_factorial(n):\n",
    "        if n == 0:\n",
    "            return 1\n",
    "        else:\n",
    "            return n * inner_factorial(n-1)\n",
    "    if type(n) == int and n >=0:\n",
    "        return inner_factorial(n)\n",
    "    else:\n",
    "        raise TypeError(\"n should be an integer and n >= 0\")\n",
    "\n",
    "print(factorial(5))\n"
   ]
  },
  {
   "cell_type": "markdown",
   "metadata": {},
   "source": [
    "### Functions can return other functions.\n"
   ]
  },
  {
   "cell_type": "code",
   "execution_count": 9,
   "metadata": {},
   "outputs": [
    {
     "name": "stdout",
     "output_type": "stream",
     "text": [
      "ROAR..🐯\n",
      "meow..🐱\n"
     ]
    }
   ],
   "source": [
    "def sound(range):    \n",
    "    \"\"\" \n",
    "    Args: range (Type of sound). (<class 'str'>)\n",
    "    Return: function object of the sound (<class 'function'>)\n",
    "    \"\"\" \n",
    "    def loud(x):\n",
    "        print(x.upper() + '🐯')\n",
    "    def low(x):\n",
    "        print(x.lower() + '🐱')\n",
    "    if range == 'loud':\n",
    "        return loud\n",
    "    else:\n",
    "        return low\n",
    "tiger = sound(\"loud\") # you can use this as a functions.\n",
    "tiger(\"roar..\") # ROAR..🐯\n",
    "cat = sound(\"low\")\n",
    "cat(\"MEOW..\") # meow.."
   ]
  },
  {
   "cell_type": "markdown",
   "metadata": {},
   "source": [
    "### Let’s start with a simple decorator that print’s the name of the function before it runs."
   ]
  },
  {
   "cell_type": "code",
   "execution_count": 15,
   "metadata": {},
   "outputs": [
    {
     "name": "stdout",
     "output_type": "stream",
     "text": [
      "Function that started running is add\n",
      "result = 3\n",
      "Function that started running is add\n",
      "result = 6\n",
      "Function that started running is add\n",
      "result = 10\n"
     ]
    }
   ],
   "source": [
    "def func_name_printer(func):\n",
    "    def wrapper(*args):\n",
    "        print(\"Function that started running is \" + func.__name__)\n",
    "        func(*args)\n",
    "    return wrapper\n",
    "\n",
    "def add(*args):\n",
    "    tot_sum = 0\n",
    "    for arg in args:\n",
    "        tot_sum += arg\n",
    "    print(\"result = \" + str(tot_sum))\n",
    "\n",
    "sample = func_name_printer(add)\n",
    "\n",
    "# ex 1\n",
    "sample(1,2)\n",
    "# Function that started running is add\n",
    "# result = 3 \n",
    "\n",
    "# ex 2 \n",
    "sample(1,2,3)\n",
    "# Function that started running is add\n",
    "# result = 6\n",
    "\n",
    "# ex 3\n",
    "sample(1,2,3,4)\n",
    "# Function that started running is add\n",
    "# result = 10"
   ]
  },
  {
   "cell_type": "markdown",
   "metadata": {},
   "source": [
    "By using *args you can send varying lengths of variables to a function. *args accepts it as a tuple"
   ]
  },
  {
   "cell_type": "code",
   "execution_count": null,
   "metadata": {},
   "outputs": [],
   "source": []
  }
 ],
 "metadata": {
  "interpreter": {
   "hash": "916dbcbb3f70747c44a77c7bcd40155683ae19c65e1c03b4aa3499c5328201f1"
  },
  "kernelspec": {
   "display_name": "Python 3.8.10 64-bit",
   "name": "python3"
  },
  "language_info": {
   "codemirror_mode": {
    "name": "ipython",
    "version": 3
   },
   "file_extension": ".py",
   "mimetype": "text/x-python",
   "name": "python",
   "nbconvert_exporter": "python",
   "pygments_lexer": "ipython3",
   "version": "3.8.10"
  },
  "orig_nbformat": 4
 },
 "nbformat": 4,
 "nbformat_minor": 2
}
